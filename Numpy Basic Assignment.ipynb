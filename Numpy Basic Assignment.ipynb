{
 "cells": [
  {
   "cell_type": "code",
   "execution_count": 1,
   "id": "44d1f1cb-0203-40e1-8a53-c61db407e1d6",
   "metadata": {},
   "outputs": [],
   "source": [
    "import numpy as np\n",
    "list_ = [ '1' , '2' , '3' , '4' , '5' ]\n",
    "array_list = np.array(object = list_)"
   ]
  },
  {
   "cell_type": "markdown",
   "id": "8bdad515-8c4d-4c23-892e-ea8495247672",
   "metadata": {},
   "source": [
    "Q1. Is there any difference in the data type of variables list_ and array_list? If there is then write a code\n",
    "to print the data types of both the variables."
   ]
  },
  {
   "cell_type": "markdown",
   "id": "8bc8b30f-d396-4409-bfca-722556688342",
   "metadata": {},
   "source": [
    "A1. List cannot be instantiated. ArrayList can be instantiated. List interface is used to create a list of elements(objects) that are associated with their index numbers. ArrayList class is used to create a dynamic array that contains objects."
   ]
  },
  {
   "cell_type": "code",
   "execution_count": 2,
   "id": "01cdb701-abde-44e2-989d-b07aca845a53",
   "metadata": {},
   "outputs": [
    {
     "data": {
      "text/plain": [
       "array(['1', '2', '3', '4', '5'], dtype='<U1')"
      ]
     },
     "execution_count": 2,
     "metadata": {},
     "output_type": "execute_result"
    }
   ],
   "source": [
    "array_list"
   ]
  },
  {
   "cell_type": "code",
   "execution_count": 3,
   "id": "3d599dc0-3b5c-4dc4-8bd8-d9cac268821b",
   "metadata": {},
   "outputs": [
    {
     "data": {
      "text/plain": [
       "['1', '2', '3', '4', '5']"
      ]
     },
     "execution_count": 3,
     "metadata": {},
     "output_type": "execute_result"
    }
   ],
   "source": [
    "list_"
   ]
  },
  {
   "cell_type": "code",
   "execution_count": 4,
   "id": "2f339fe4-0a05-4dba-a238-e298698edb21",
   "metadata": {},
   "outputs": [
    {
     "data": {
      "text/plain": [
       "dtype('<U1')"
      ]
     },
     "execution_count": 4,
     "metadata": {},
     "output_type": "execute_result"
    }
   ],
   "source": [
    "array_list.dtype"
   ]
  },
  {
   "cell_type": "code",
   "execution_count": 5,
   "id": "53ff47c1-0534-4605-b789-f83cec7deb44",
   "metadata": {},
   "outputs": [
    {
     "ename": "AttributeError",
     "evalue": "'list' object has no attribute 'dtype'",
     "output_type": "error",
     "traceback": [
      "\u001b[0;31m---------------------------------------------------------------------------\u001b[0m",
      "\u001b[0;31mAttributeError\u001b[0m                            Traceback (most recent call last)",
      "Cell \u001b[0;32mIn[5], line 1\u001b[0m\n\u001b[0;32m----> 1\u001b[0m \u001b[43mlist_\u001b[49m\u001b[38;5;241;43m.\u001b[39;49m\u001b[43mdtype\u001b[49m\n",
      "\u001b[0;31mAttributeError\u001b[0m: 'list' object has no attribute 'dtype'"
     ]
    }
   ],
   "source": [
    "list_.dtype"
   ]
  },
  {
   "cell_type": "markdown",
   "id": "2cb5854d-60b9-42af-94db-767cd5b2b029",
   "metadata": {},
   "source": [
    "Q2. Write a code to print the data type of each and every element of both the variables list_ and\n",
    "arra_list."
   ]
  },
  {
   "cell_type": "code",
   "execution_count": 7,
   "id": "f59d3914-cb51-4766-920f-a49ea27977fb",
   "metadata": {},
   "outputs": [
    {
     "name": "stdout",
     "output_type": "stream",
     "text": [
      "Original list is : ['1' '2' '3' '4' '5']\n",
      "All elements have same type : True\n"
     ]
    }
   ],
   "source": [
    "array_list\n",
    "print(\"Original list is : \" + str(array_list))\n",
    "\n",
    "res = True\n",
    "for ele in array_list:\n",
    "    if not isinstance(ele, type(array_list[0])):\n",
    "        res = False\n",
    "        break\n",
    "print(\"All elements have same type : \" + str(res))"
   ]
  },
  {
   "cell_type": "code",
   "execution_count": 9,
   "id": "bc35dad4-bc0b-4fff-aac3-ba8db0bf526b",
   "metadata": {},
   "outputs": [
    {
     "name": "stdout",
     "output_type": "stream",
     "text": [
      "Original list is : ['1', '2', '3', '4', '5']\n",
      "All elements have same type : True\n"
     ]
    }
   ],
   "source": [
    "list_\n",
    "print(\"Original list is : \" + str(list_))\n",
    "\n",
    "res = True\n",
    "for ele in list_:\n",
    "    if not isinstance(ele, type(list_[0])):\n",
    "        res = False\n",
    "        break\n",
    "print(\"All elements have same type : \" + str(res))"
   ]
  },
  {
   "cell_type": "markdown",
   "id": "a09ca9c7-dc6a-4900-ae9c-daa4cbbeac40",
   "metadata": {},
   "source": [
    "Q3. Considering the following changes in the variable, array_list:"
   ]
  },
  {
   "cell_type": "code",
   "execution_count": 10,
   "id": "35f59c66-4152-4dfe-be80-52cf23391bb2",
   "metadata": {},
   "outputs": [],
   "source": [
    "array_list = np.array(object = list_, dtype = int)"
   ]
  },
  {
   "cell_type": "code",
   "execution_count": 11,
   "id": "f86039f7-b001-45e7-8b7f-25f6fcb7dd05",
   "metadata": {},
   "outputs": [
    {
     "data": {
      "text/plain": [
       "array([1, 2, 3, 4, 5])"
      ]
     },
     "execution_count": 11,
     "metadata": {},
     "output_type": "execute_result"
    }
   ],
   "source": [
    "array_list"
   ]
  },
  {
   "cell_type": "code",
   "execution_count": 12,
   "id": "6b2a4df6-f3bf-4c46-ab95-77620dd9e7ca",
   "metadata": {},
   "outputs": [
    {
     "data": {
      "text/plain": [
       "['1', '2', '3', '4', '5']"
      ]
     },
     "execution_count": 12,
     "metadata": {},
     "output_type": "execute_result"
    }
   ],
   "source": [
    "list_"
   ]
  },
  {
   "cell_type": "markdown",
   "id": "a5484387-3494-4e46-9d2e-2d42ab4a93f2",
   "metadata": {},
   "source": [
    "Will there be any difference in the data type of the elements present in both the variables, list_ and\n",
    "arra_list? If so then print the data types of each and every element present in both the variables, list_\n",
    "and arra_list."
   ]
  },
  {
   "cell_type": "code",
   "execution_count": 13,
   "id": "1d025d7c-22d1-45c2-be91-a63a50cf80fa",
   "metadata": {},
   "outputs": [
    {
     "data": {
      "text/plain": [
       "numpy.ndarray"
      ]
     },
     "execution_count": 13,
     "metadata": {},
     "output_type": "execute_result"
    }
   ],
   "source": [
    "type(array_list)"
   ]
  },
  {
   "cell_type": "code",
   "execution_count": 14,
   "id": "36766b32-b060-48e4-ad25-885419d68b58",
   "metadata": {},
   "outputs": [
    {
     "data": {
      "text/plain": [
       "list"
      ]
     },
     "execution_count": 14,
     "metadata": {},
     "output_type": "execute_result"
    }
   ],
   "source": [
    "type(list_)"
   ]
  },
  {
   "cell_type": "code",
   "execution_count": 15,
   "id": "2035c091-64b8-46fb-8a23-46c2b5dd76cf",
   "metadata": {},
   "outputs": [
    {
     "name": "stdout",
     "output_type": "stream",
     "text": [
      "Original list is : [1 2 3 4 5]\n",
      "All elements have same type : True\n"
     ]
    }
   ],
   "source": [
    "array_list\n",
    "print(\"Original list is : \" + str(array_list))\n",
    "\n",
    "res = True\n",
    "for ele in array_list:\n",
    "    if not isinstance(ele, type(array_list[0])):\n",
    "        res = False\n",
    "        break\n",
    "print(\"All elements have same type : \" + str(res))"
   ]
  },
  {
   "cell_type": "code",
   "execution_count": 16,
   "id": "c8732355-ea3c-4c75-b37a-d96924d27a27",
   "metadata": {},
   "outputs": [
    {
     "name": "stdout",
     "output_type": "stream",
     "text": [
      "Original list is : ['1', '2', '3', '4', '5']\n",
      "All elements have same type : True\n"
     ]
    }
   ],
   "source": [
    "list_\n",
    "print(\"Original list is : \" + str(list_))\n",
    "\n",
    "res = True\n",
    "for ele in list_:\n",
    "    if not isinstance(ele, type(list_[0])):\n",
    "        res = False\n",
    "        break\n",
    "print(\"All elements have same type : \" + str(res))"
   ]
  },
  {
   "cell_type": "code",
   "execution_count": 17,
   "id": "3f281f7f-98d4-4e5c-a3a6-6ecb38ad327b",
   "metadata": {},
   "outputs": [],
   "source": [
    "#Consider the below code to answer further questions:\n",
    "import numpy as np\n",
    "num_list = [ [ 1 , 2 , 3 ] , [ 4 , 5 , 6 ] ]\n",
    "num_array = np.array(object = num_list)"
   ]
  },
  {
   "cell_type": "markdown",
   "id": "f0877bfa-f971-46f8-94f5-e523987feed4",
   "metadata": {},
   "source": [
    "Q4. Write a code to find the following characteristics of variable, num_array:\n",
    "- (i) shape\n",
    "- (ii) size"
   ]
  },
  {
   "cell_type": "code",
   "execution_count": 18,
   "id": "4b9c3343-bf5f-4083-a79c-d958e026614a",
   "metadata": {},
   "outputs": [
    {
     "data": {
      "text/plain": [
       "array([[1, 2, 3],\n",
       "       [4, 5, 6]])"
      ]
     },
     "execution_count": 18,
     "metadata": {},
     "output_type": "execute_result"
    }
   ],
   "source": [
    "num_array"
   ]
  },
  {
   "cell_type": "code",
   "execution_count": 21,
   "id": "b9a35b46-2885-413f-be25-180ffed92c95",
   "metadata": {},
   "outputs": [
    {
     "data": {
      "text/plain": [
       "(2, 3)"
      ]
     },
     "execution_count": 22,
     "metadata": {},
     "output_type": "execute_result"
    }
   ],
   "source": [
    "num_array.shape"
   ]
  },
  {
   "cell_type": "code",
   "execution_count": 23,
   "id": "97cd9027-7963-4989-8a94-2083850c4b3e",
   "metadata": {},
   "outputs": [
    {
     "data": {
      "text/plain": [
       "6"
      ]
     },
     "execution_count": 23,
     "metadata": {},
     "output_type": "execute_result"
    }
   ],
   "source": [
    "num_array.size"
   ]
  },
  {
   "cell_type": "markdown",
   "id": "8df6d901-452b-4055-96f9-80e4ed68cda1",
   "metadata": {},
   "source": [
    "Q5. Write a code to create numpy array of 3*3 matrix containing zeros only, using a numpy array\n",
    "creation function.\n",
    "- [Hint: The size of the array will be 9 and the shape will be (3,3).]"
   ]
  },
  {
   "cell_type": "code",
   "execution_count": 24,
   "id": "39d15143-f293-4e63-950f-50881750c468",
   "metadata": {},
   "outputs": [
    {
     "data": {
      "text/plain": [
       "array([[0., 0., 0.],\n",
       "       [0., 0., 0.],\n",
       "       [0., 0., 0.]])"
      ]
     },
     "execution_count": 24,
     "metadata": {},
     "output_type": "execute_result"
    }
   ],
   "source": [
    "np.zeros((3,3))"
   ]
  },
  {
   "cell_type": "markdown",
   "id": "9e95d35e-a695-4751-a86f-9f53db7c3886",
   "metadata": {},
   "source": [
    "Q6. Create an identity matrix of shape (5,5) using numpy functions?\n",
    "- [Hint: An identity matrix is a matrix containing 1 diagonally and other elements will be 0.]"
   ]
  },
  {
   "cell_type": "code",
   "execution_count": 30,
   "id": "35f13476-1c6d-4de4-bddf-170a3d9d841e",
   "metadata": {},
   "outputs": [
    {
     "data": {
      "text/plain": [
       "matrix([[1., 0., 0., 0., 0.],\n",
       "        [0., 1., 0., 0., 0.],\n",
       "        [0., 0., 1., 0., 0.],\n",
       "        [0., 0., 0., 1., 0.],\n",
       "        [0., 0., 0., 0., 1.]])"
      ]
     },
     "execution_count": 30,
     "metadata": {},
     "output_type": "execute_result"
    }
   ],
   "source": [
    "#First Method\n",
    "import numpy.matlib as nm\n",
    "nm.eye(5,5)"
   ]
  },
  {
   "cell_type": "code",
   "execution_count": 29,
   "id": "33e1d69d-6a3e-417d-9c20-84052f51fa68",
   "metadata": {},
   "outputs": [
    {
     "name": "stdout",
     "output_type": "stream",
     "text": [
      "5x5 matrix:\n",
      "[[1. 0. 0. 0. 0.]\n",
      " [0. 1. 0. 0. 0.]\n",
      " [0. 0. 1. 0. 0.]\n",
      " [0. 0. 0. 1. 0.]\n",
      " [0. 0. 0. 0. 1.]]\n"
     ]
    }
   ],
   "source": [
    "#Second Method\n",
    "array_q6=np.identity(5)\n",
    "print('5x5 matrix:')\n",
    "print(array_q6)"
   ]
  },
  {
   "cell_type": "code",
   "execution_count": null,
   "id": "98680e8c-a699-4ba0-b852-9563eef057dd",
   "metadata": {},
   "outputs": [],
   "source": []
  }
 ],
 "metadata": {
  "kernelspec": {
   "display_name": "Python 3 (ipykernel)",
   "language": "python",
   "name": "python3"
  },
  "language_info": {
   "codemirror_mode": {
    "name": "ipython",
    "version": 3
   },
   "file_extension": ".py",
   "mimetype": "text/x-python",
   "name": "python",
   "nbconvert_exporter": "python",
   "pygments_lexer": "ipython3",
   "version": "3.10.8"
  }
 },
 "nbformat": 4,
 "nbformat_minor": 5
}
